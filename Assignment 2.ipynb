{
 "cells": [
  {
   "cell_type": "markdown",
   "metadata": {},
   "source": [
    "## LAB CHALLENGE: Neural Matrix Factorization \n",
    "In the previous lecture we have built a recommender system using the Neural Matrix Factorization framework. This framework allowed us to combine the GMF layers with the MLP layers in this way:\n",
    "$$\\phi^{GMF} = \\mathbf{p_u}^G\\odot \\mathbf{q_i}^G$$\n",
    "$$\\phi^{MLP} = a_L(\\mathbf{W}_L^T(a_{L-1}(...a_2 (\\mathbf{W}_2^T \\begin{bmatrix}\n",
    "\\mathbf{p_u} \\\\ \\mathbf{q_i}\n",
    "\\end{bmatrix} + \\mathbf{b}_2)...)) + \\mathbf{b}_L)$$\n",
    "\n",
    "$$ y_{ui} = \\sigma(\\mathbf{h}^T \\begin{bmatrix}\n",
    "\\ \\phi^{GMF} \\\\ \\phi^{MLP}\n",
    "\\end{bmatrix})$$\n",
    "\n",
    "<center>  <img src=\"https://drive.google.com/uc?export=view&id=1gNLUpiQdbDPMdvfZYVs3lcou3cd4Favb\" width=\"550\" height=\"400\"> </center> \n",
    "\n",
    "Let's now try to apply transfer learning to such an architecture. \n",
    "\n",
    "- TASK 1: Train the GMF and MLP models separately, inspect and save the parameters.\n",
    "- TASK 2: Use the pre-trained parameters for initializing the NMF architecture. In particular, use the pre-trained embeddings for users and items and the initialized layers of GMF and MLP.\n",
    "- TASK 3: Finally, train the NMF model both by freezing the layers preceding the NeuMF layer and by keeping all the parameters trainable. Compare the performance with the network trained from scratch.\n"
   ]
  },
  {
   "cell_type": "code",
   "execution_count": 39,
   "metadata": {},
   "outputs": [],
   "source": [
    "import os\n",
    "\n",
    "import matplotlib.pyplot as plt\n",
    "import numpy as np\n",
    "import pandas as pd\n",
    "import torch\n",
    "import torch.nn as nn\n",
    "import torch.optim as optim\n",
    "from torch.utils.data import DataLoader\n",
    "import time\n",
    "\n",
    "from metrics import metrics\n",
    "from NCF_Data import NCF_Data"
   ]
  },
  {
   "attachments": {},
   "cell_type": "markdown",
   "metadata": {},
   "source": [
    "## PATH definition"
   ]
  },
  {
   "cell_type": "code",
   "execution_count": 40,
   "metadata": {},
   "outputs": [],
   "source": [
    "PATH = \"./ml-100k/u.data\" \n",
    "MODEL_PATH = \"./models/\" "
   ]
  },
  {
   "attachments": {},
   "cell_type": "markdown",
   "metadata": {},
   "source": [
    "## Parameters Definition"
   ]
  },
  {
   "cell_type": "code",
   "execution_count": 41,
   "metadata": {},
   "outputs": [],
   "source": [
    "args = {\n",
    "    \"seed\": 42,\n",
    "    \"lr\": 0.01,\n",
    "    \"dropout\": 0.0,\n",
    "    \"batch_size\": 256,\n",
    "    \"epochs\": 30,\n",
    "    \"top_k\": 10,\n",
    "    \"num_factors\": 8,\n",
    "    \"layers\": (64, 32, 16, 8),\n",
    "    \"out\": True,\n",
    "    \"num_ng\": 4,\n",
    "    \"num_ng_test\": 100\n",
    "}"
   ]
  },
  {
   "cell_type": "code",
   "execution_count": 42,
   "metadata": {},
   "outputs": [],
   "source": [
    "best_config = {\n",
    "    \"lr\": 0.01,\n",
    "    \"batch_size\": 128,\n",
    "    \"num_factors_gmf\": 16,\n",
    "    \"num_factors_mlp\": 64,\n",
    "    \"epochs\": 30,\n",
    "    \"out\": True,\n",
    "    \"dropout\": [0, 0, 0, 0],\n",
    "}"
   ]
  },
  {
   "cell_type": "code",
   "execution_count": 43,
   "metadata": {},
   "outputs": [
    {
     "data": {
      "text/plain": [
       "device(type='cpu')"
      ]
     },
     "execution_count": 43,
     "metadata": {},
     "output_type": "execute_result"
    }
   ],
   "source": [
    "np.random.seed(args[\"seed\"])\n",
    "torch.manual_seed(args[\"seed\"])\n",
    "\n",
    "use_cuda = torch.cuda.is_available()\n",
    "device = torch.device(\"cuda:0\" if use_cuda else \"cpu\")\n",
    "device"
   ]
  },
  {
   "attachments": {},
   "cell_type": "markdown",
   "metadata": {},
   "source": [
    "## Load Train and Test loaders"
   ]
  },
  {
   "cell_type": "code",
   "execution_count": 44,
   "metadata": {},
   "outputs": [],
   "source": [
    "# load data\n",
    "ml_100k = pd.read_csv(\n",
    "\tPATH, \n",
    "\tsep=\"\\t\", \n",
    "\tnames = ['user_id', 'item_id', 'rating', 'timestamp'], \n",
    "\tengine='python')\n",
    "\n",
    "# set the num_users, items\n",
    "num_users = ml_100k['user_id'].nunique()+1\n",
    "num_items = ml_100k['item_id'].nunique()+1\n",
    "\n",
    "# construct the train and test datasets\n",
    "data = NCF_Data(ml_100k, args)\n",
    "train_loader = data.get_train_instance()\n",
    "test_loader = data.get_test_instance()"
   ]
  },
  {
   "attachments": {},
   "cell_type": "markdown",
   "metadata": {},
   "source": [
    "# Models"
   ]
  },
  {
   "cell_type": "code",
   "execution_count": 45,
   "metadata": {},
   "outputs": [],
   "source": [
    "def train_model(model: nn.Module, train_loader: DataLoader, test_loader: DataLoader, optimizer = None, name_suffix = \"\"):\n",
    "    model = model.to(device)\n",
    "\n",
    "    # Loss and optimizer\n",
    "    loss_function = nn.BCELoss()\n",
    "    if optimizer == None:\n",
    "        optimizer = optim.Adam(model.parameters(), lr=args[\"lr\"])\n",
    "\n",
    "    best_hr = 0\n",
    "    \n",
    "    # Train cycle\n",
    "    for epoch in range(args[\"epochs\"]):\n",
    "        start_time = time.time()\n",
    "        \n",
    "        # Train step\n",
    "        model.train()\n",
    "\n",
    "        for user, item, label in train_loader:\n",
    "            user = user.to(device)\n",
    "            item = item.to(device)\n",
    "            label = label.to(device)\n",
    "\n",
    "            # Zero grad\n",
    "            optimizer.zero_grad()\n",
    "            \n",
    "            # Prediction\n",
    "            prediction = model(user, item)\n",
    "            loss = loss_function(prediction, label)\n",
    "            \n",
    "            # Backpropagation\n",
    "            loss.backward()\n",
    "            optimizer.step()\n",
    "\n",
    "        # Eval metrics\n",
    "        model.eval()\n",
    "        HR, NDCG = metrics(model, test_loader, args[\"top_k\"], device)\n",
    "\n",
    "        # Print metrics and time elapsed\n",
    "        elapsed_time = time.time() - start_time\n",
    "        print(\n",
    "            \"Epoch {:03d}\".format(epoch)\n",
    "            + \" time to train: \"\n",
    "            + time.strftime(\"%H: %M: %S\", time.gmtime(elapsed_time))\n",
    "        )\n",
    "        print(\"HR: {:.3f}\\tNDCG: {:.3f}\".format(np.mean(HR), np.mean(NDCG)))\n",
    "\n",
    "        # If best model, save it\n",
    "        if HR > best_hr:\n",
    "            best_hr, best_ndcg, best_epoch = HR, NDCG, epoch\n",
    "            if args[\"out\"]:\n",
    "                if not os.path.exists(MODEL_PATH):\n",
    "                    os.mkdir(MODEL_PATH)\n",
    "                torch.save(\n",
    "                    model, \"{}{}{}{}.pt\".format(MODEL_PATH, model.__class__.__name__, model.num_factors, name_suffix)\n",
    "                )\n"
   ]
  },
  {
   "attachments": {},
   "cell_type": "markdown",
   "metadata": {},
   "source": [
    "## GMF model"
   ]
  },
  {
   "cell_type": "code",
   "execution_count": 46,
   "metadata": {},
   "outputs": [],
   "source": [
    "class GMF(nn.Module):\n",
    "    def __init__(self, num_users, num_items):\n",
    "        super(GMF, self).__init__()\n",
    "        self.num_users = num_users\n",
    "        self.num_items = num_items\n",
    "        self.num_factors = args[\"num_factors\"]\n",
    "\n",
    "        self.embedding_user = nn.Embedding(\n",
    "            num_embeddings=self.num_users, embedding_dim=self.num_factors\n",
    "        )\n",
    "        self.embedding_item = nn.Embedding(\n",
    "            num_embeddings=self.num_items, embedding_dim=self.num_factors\n",
    "        )\n",
    "\n",
    "        self.affine_output = nn.Linear(in_features=self.num_factors, out_features=1)\n",
    "        self.logistic = nn.Sigmoid()\n",
    "\n",
    "    def forward(self, user_indices, item_indices):\n",
    "        user_embedding = self.embedding_user(user_indices)\n",
    "        item_embedding = self.embedding_item(item_indices)\n",
    "        element_product = torch.mul(user_embedding, item_embedding)\n",
    "        logits = self.affine_output(element_product)\n",
    "        rating = self.logistic(logits)\n",
    "        return rating.squeeze()\n"
   ]
  },
  {
   "cell_type": "code",
   "execution_count": 47,
   "metadata": {},
   "outputs": [],
   "source": [
    "#gmf_model = GMF(num_users, num_items)\n",
    "#train_model(gmf_model, train_loader, test_loader)\n",
    "gmf_model = torch.load(MODEL_PATH + \"GMF8.pt\", map_location=device)"
   ]
  },
  {
   "attachments": {},
   "cell_type": "markdown",
   "metadata": {},
   "source": [
    "## MLP model"
   ]
  },
  {
   "cell_type": "code",
   "execution_count": 48,
   "metadata": {},
   "outputs": [],
   "source": [
    "class MLP(nn.Module):\n",
    "    def __init__(self, args, num_users, num_items):\n",
    "        super(MLP, self).__init__()\n",
    "        self.num_users = num_users\n",
    "        self.num_items = num_items\n",
    "        self.num_factors = args[\"num_factors\"]\n",
    "        self.layers = args['layers']\n",
    "\n",
    "        self.embedding_user = nn.Embedding(num_embeddings=self.num_users, embedding_dim=self.num_factors)\n",
    "        self.embedding_item = nn.Embedding(num_embeddings=self.num_items, embedding_dim=self.num_factors)\n",
    "\n",
    "        self.fc_layers = nn.ModuleList()\n",
    "        for idx, (in_size, out_size) in enumerate(zip(self.layers[:-1], self.layers[1:])):\n",
    "            self.fc_layers.append(nn.Linear(in_size, out_size))\n",
    "\n",
    "        self.affine_output = nn.Linear(in_features=self.layers[-1], out_features=1)\n",
    "        self.logistic = nn.Sigmoid()\n",
    "\n",
    "    def forward(self, user_indices, item_indices):\n",
    "        user_embedding = self.embedding_user(user_indices)\n",
    "        item_embedding = self.embedding_item(item_indices)\n",
    "        vector = torch.cat([user_embedding, item_embedding], dim=-1)  # the concat latent vector\n",
    "        for idx, _ in enumerate(range(len(self.fc_layers))):\n",
    "            vector = self.fc_layers[idx](vector)\n",
    "            vector = nn.ReLU()(vector)\n",
    "            # vector = nn.BatchNorm1d()(vector)\n",
    "            # vector = nn.Dropout(p=0.5)(vector)\n",
    "        logits = self.affine_output(vector)\n",
    "        rating = self.logistic(logits)\n",
    "        return rating.squeeze()\n",
    "\n",
    "    def init_weight(self):\n",
    "        pass"
   ]
  },
  {
   "cell_type": "code",
   "execution_count": 49,
   "metadata": {},
   "outputs": [],
   "source": [
    "args[\"lr\"] = 0.01\n",
    "args[\"dropout\"] = 0\n",
    "args[\"num_factors\"] = 64\n",
    "args['layers'] = [128, 64, 32, 16, 8]\n",
    "mlp_model = MLP(args, num_users, num_items)\n",
    "#train_model(mlp_model, train_loader, test_loader)\n",
    "#mlp_model = torch.load(MODEL_PATH + \"MLP64.pt\", map_location=device)"
   ]
  },
  {
   "attachments": {},
   "cell_type": "markdown",
   "metadata": {},
   "source": [
    "## NeuMF model"
   ]
  },
  {
   "cell_type": "code",
   "execution_count": 50,
   "metadata": {},
   "outputs": [],
   "source": [
    "class NeuMF(nn.Module):\n",
    "    def __init__(self, num_factors_gmf, num_factors_mlp, num_users, num_items, dropout = [0, 0, 0, 0]):\n",
    "\n",
    "        super(NeuMF, self).__init__()\n",
    "        self.num_users = num_users\n",
    "        self.num_items = num_items\n",
    "        self.dropout = dropout\n",
    "        self.num_factors_gmf = num_factors_gmf\n",
    "        self.num_factors_mlp = num_factors_mlp\n",
    "        self.num_factors = max(num_factors_mlp, num_factors_gmf) #just for saving model name purpose\n",
    "\n",
    "        # GMF component\n",
    "        self.gmf_user_embed = nn.Sequential(\n",
    "            nn.Embedding(num_embeddings=self.num_users, embedding_dim=self.num_factors_gmf),\n",
    "            nn.Dropout(p=self.dropout[1]),\n",
    "        )\n",
    "        self.gmf_item_embed = nn.Sequential(\n",
    "            nn.Embedding(num_embeddings=self.num_items, embedding_dim=self.num_factors_gmf),\n",
    "            nn.Dropout(p=self.dropout[1]),\n",
    "        )\n",
    "        self.gmf_affine = nn.Linear(\n",
    "            in_features=self.num_factors_gmf, out_features=self.num_factors_gmf, bias=True\n",
    "        )\n",
    "\n",
    "        # MLP component\n",
    "        self.mlp_user_embed = nn.Sequential(\n",
    "            nn.Embedding(num_embeddings=self.num_users, embedding_dim=self.num_factors_mlp),\n",
    "            nn.Dropout(p=self.dropout[2]),\n",
    "        )\n",
    "        self.mlp_item_embed = nn.Sequential(\n",
    "            nn.Embedding(num_embeddings=self.num_items, embedding_dim=self.num_factors_mlp),\n",
    "            nn.Dropout(p=self.dropout[2]),\n",
    "        )\n",
    "\n",
    "        self.mlp_fc = nn.Sequential(\n",
    "            #We have considered as possible num_factors [8, 16, 32, 64] so this structure word\n",
    "            nn.Linear(2 * self.num_factors_mlp, self.num_factors_mlp),\n",
    "            nn.Dropout(p = dropout[3]),\n",
    "            nn.ReLU(),\n",
    "\n",
    "            nn.Linear(self.num_factors_mlp, int(self.num_factors_mlp / 2)),\n",
    "            nn.Dropout(p = dropout[3] / 2),\n",
    "            nn.ReLU(),\n",
    "\n",
    "            nn.Linear(int(self.num_factors_mlp / 2), int(self.num_factors_mlp / 4)),  \n",
    "            nn.Dropout(p = dropout[3] / 4),\n",
    "            nn.ReLU(),\n",
    "\n",
    "            nn.Linear(int(self.num_factors_mlp / 4), int(self.num_factors_mlp / 8)),  \n",
    "            nn.Dropout(p = dropout[3] / 4),\n",
    "            nn.ReLU()\n",
    "        )\n",
    "\n",
    "        # Combine models\n",
    "        input_dim = self.num_factors_gmf + int(self.num_factors_mlp / 8)\n",
    "        self.mixing_layers = nn.Sequential(\n",
    "            nn.Linear(input_dim, int(input_dim / 2)),\n",
    "            nn.Dropout(p=dropout[0]),\n",
    "            nn.ReLU(),\n",
    "\n",
    "            nn.Linear(int(input_dim / 2), int(input_dim / 4)),\n",
    "            nn.Dropout(p=dropout[0] / 2),\n",
    "            nn.ReLU(),\n",
    "\n",
    "            nn.Linear(int(input_dim / 4), 1),\n",
    "            nn.Sigmoid(),\n",
    "        )\n",
    "\n",
    "    def forward(self, user_indices, item_indices):\n",
    "        # GMF forward\n",
    "        user_embedding_gmf = self.gmf_user_embed(user_indices)\n",
    "        item_embedding_gmf = self.gmf_item_embed(item_indices)\n",
    "\n",
    "        element_product = torch.mul(user_embedding_gmf, item_embedding_gmf)\n",
    "        ratings_gmf = self.gmf_affine(element_product)\n",
    "\n",
    "        # MLP forward\n",
    "        user_embedding_mlp = self.mlp_user_embed(user_indices)\n",
    "        item_embedding_mlp = self.mlp_item_embed(item_indices)\n",
    "\n",
    "        vector = torch.cat((user_embedding_mlp, item_embedding_mlp), dim=-1)\n",
    "        ratings_mlp = self.mlp_fc(vector)\n",
    "\n",
    "        ratings = torch.cat((ratings_gmf, ratings_mlp), dim=1)\n",
    "        return self.mixing_layers(ratings).squeeze()\n",
    "\n",
    "nmf_model = NeuMF(gmf_model.num_factors, mlp_model.num_factors, num_users, num_items)"
   ]
  },
  {
   "cell_type": "code",
   "execution_count": 51,
   "metadata": {},
   "outputs": [],
   "source": [
    "args['lr'] = 0.01\n",
    "nmf_model = torch.load(MODEL_PATH + \"Assignment 1 - best.pt\", map_location=device)\n",
    "nmf_model = NeuMF(gmf_model.num_factors, mlp_model.num_factors, num_users, num_items)\n",
    "#train_model(nmf_model, train_loader, test_loader)"
   ]
  },
  {
   "attachments": {},
   "cell_type": "markdown",
   "metadata": {},
   "source": [
    "# Transfer Learning tasks\n",
    "\n",
    "We noticed that models trained from scratch exhibit the best results with a learning rate of 0.01 while, in a model where pre-trained layer weights are loaded, a lower learning rate is more effective. In our tests, a learning rate of 0.005 seemed accurate.\n",
    "\n",
    "To obtain the best results, we also retrained from scratch the GMF and MLP models with the best configuration of num factors reported from the previous task (8 and 64, respectively). The performance of these models, with a learning rate of 0.01, improved significantly and is now comparable to that of the NeuMF model.\n",
    "\n",
    "For the transfer learning task, we decided to load the weights of the GMF and MLP models with the best performance obtained. \n",
    "\n",
    "The weights of the GMF transferred layers are:\n",
    "- user embeddings\n",
    "- embedded elements \n",
    "\n",
    "The weights of the MLP transferred layers are:\n",
    "- user embeddings\n",
    "- embedded elements \n",
    "- all weights of the 4 hidden layers"
   ]
  },
  {
   "cell_type": "code",
   "execution_count": 52,
   "metadata": {},
   "outputs": [],
   "source": [
    "def load_gmf_weights(nmf_model, gmf_model, requires_grad=False):\n",
    "    nmf_layers_names = [name for name, param in nmf_model.named_parameters()]\n",
    "    gmf_layers_names = [name for name, param in gmf_model.named_parameters()]\n",
    "    #create a dict that has as key the value of the layer in the NMF model and as value the layer in the GMF model\n",
    "    layers_name_match_dict = {k: v for k, v in zip(nmf_layers_names[:2], gmf_layers_names)}\n",
    "    for nmf_layer_name, gmf_layer_name in layers_name_match_dict.items():\n",
    "        nmf_model.state_dict()[nmf_layer_name].copy_(gmf_model.state_dict()[gmf_layer_name])\n",
    "    #deactivate grad for the layers that comes from the GMF model\n",
    "    for name, param in nmf_model.named_parameters():\n",
    "        if name in layers_name_match_dict.keys():\n",
    "            param.requires_grad = requires_grad\n",
    "\n",
    "\n",
    "def load_mlp_weights(nmf_model, mlp_model, requires_grad=False):\n",
    "    nmf_layers_names = [name for name, param in nmf_model.named_parameters()]\n",
    "    mlp_layers_names = [name for name, param in mlp_model.named_parameters()]\n",
    "    #create a dict that has as key the value of the layer in the NMF model and as value the layer in the MLP model\n",
    "    layers_name_match_dict = {k: v for k, v in zip(nmf_layers_names[4:], mlp_layers_names[:-2])}\n",
    "    for nmf_layer_name, mlp_layer_name in layers_name_match_dict.items():\n",
    "        nmf_model.state_dict()[nmf_layer_name].copy_(mlp_model.state_dict()[mlp_layer_name])\n",
    "    #deactivate grad for the layers that comes from the MLP model\n",
    "    for name, param in nmf_model.named_parameters():\n",
    "        if name in layers_name_match_dict.keys():\n",
    "            param.requires_grad = requires_grad\n",
    "\n",
    "\n",
    "def load_pre_trained_weights(nmf_model, gmf_model, mlp_model, requires_grad = False):\n",
    "    load_gmf_weights(nmf_model, gmf_model, requires_grad)\n",
    "    load_mlp_weights(nmf_model, mlp_model, requires_grad)"
   ]
  },
  {
   "attachments": {},
   "cell_type": "markdown",
   "metadata": {},
   "source": [
    "## Transfer learning keeping the GMF and MLP of NMF layers freezed"
   ]
  },
  {
   "cell_type": "code",
   "execution_count": 53,
   "metadata": {},
   "outputs": [],
   "source": [
    "args['lr'] = 0.005"
   ]
  },
  {
   "cell_type": "code",
   "execution_count": 54,
   "metadata": {},
   "outputs": [],
   "source": [
    "nmf_model = NeuMF(gmf_model.num_factors, mlp_model.num_factors, num_users, num_items)"
   ]
  },
  {
   "cell_type": "code",
   "execution_count": 55,
   "metadata": {},
   "outputs": [
    {
     "data": {
      "text/plain": [
       "Parameter containing:\n",
       "tensor([[ 0.8972, -0.0262,  1.5371,  ...,  0.6654,  1.3222, -1.3388],\n",
       "        [ 0.2036, -0.0914, -0.7450,  ...,  0.4793,  1.6004, -0.2473],\n",
       "        [ 0.9502, -0.1930, -1.5638,  ...,  0.8816, -1.8410, -0.6037],\n",
       "        ...,\n",
       "        [ 0.3507, -0.5243, -2.4684,  ..., -0.2468,  1.6957, -1.4250],\n",
       "        [ 2.9947,  0.4095,  1.3146,  ..., -1.0917,  1.2699, -0.4821],\n",
       "        [ 0.5620,  0.1374, -0.1622,  ...,  0.2887, -1.0072,  0.3710]],\n",
       "       requires_grad=True)"
      ]
     },
     "execution_count": 55,
     "metadata": {},
     "output_type": "execute_result"
    }
   ],
   "source": [
    "list(nmf_model.named_parameters())[0][1]"
   ]
  },
  {
   "cell_type": "code",
   "execution_count": 56,
   "metadata": {},
   "outputs": [],
   "source": [
    "load_pre_trained_weights(nmf_model, gmf_model, mlp_model, requires_grad=False)"
   ]
  },
  {
   "cell_type": "code",
   "execution_count": 57,
   "metadata": {},
   "outputs": [
    {
     "data": {
      "text/plain": [
       "Parameter containing:\n",
       "tensor([[-1.7370,  0.0054,  2.4798,  ...,  0.4667,  0.9585, -1.3056],\n",
       "        [-0.3225,  0.7764, -0.7333,  ...,  2.1920, -2.2555, -1.5429],\n",
       "        [-0.5096, -1.2195,  0.0890,  ..., -3.5754,  0.1880, -2.0185],\n",
       "        ...,\n",
       "        [ 2.5621,  5.3520, -1.4401,  ...,  3.5860,  2.2998, -1.8568],\n",
       "        [-1.6503,  4.6527,  0.3155,  ...,  1.4732,  2.6513, -3.2724],\n",
       "        [-0.6758,  0.8689, -0.8718,  ...,  1.3159,  0.3292, -0.8313]])"
      ]
     },
     "execution_count": 57,
     "metadata": {},
     "output_type": "execute_result"
    }
   ],
   "source": [
    "list(nmf_model.named_parameters())[0][1]\n"
   ]
  },
  {
   "cell_type": "code",
   "execution_count": 58,
   "metadata": {},
   "outputs": [
    {
     "name": "stdout",
     "output_type": "stream",
     "text": [
      "gmf_user_embed.0.weight False\n",
      "gmf_item_embed.0.weight False\n",
      "gmf_affine.weight True\n",
      "gmf_affine.bias True\n",
      "mlp_user_embed.0.weight False\n",
      "mlp_item_embed.0.weight False\n",
      "mlp_fc.0.weight False\n",
      "mlp_fc.0.bias False\n",
      "mlp_fc.3.weight False\n",
      "mlp_fc.3.bias False\n",
      "mlp_fc.6.weight False\n",
      "mlp_fc.6.bias False\n",
      "mlp_fc.9.weight False\n",
      "mlp_fc.9.bias False\n",
      "mixing_layers.0.weight True\n",
      "mixing_layers.0.bias True\n",
      "mixing_layers.3.weight True\n",
      "mixing_layers.3.bias True\n",
      "mixing_layers.6.weight True\n",
      "mixing_layers.6.bias True\n"
     ]
    }
   ],
   "source": [
    "for name, param in nmf_model.named_parameters():\n",
    "    print(name, param.requires_grad)"
   ]
  },
  {
   "cell_type": "code",
   "execution_count": 59,
   "metadata": {},
   "outputs": [],
   "source": [
    "#train_model(nmf_model, train_loader, test_loader, name_suffix=\"-freezed42\")"
   ]
  },
  {
   "attachments": {},
   "cell_type": "markdown",
   "metadata": {},
   "source": [
    "## Transfer learning letting the GMF and MLP layers of NMF free"
   ]
  },
  {
   "cell_type": "code",
   "execution_count": 60,
   "metadata": {},
   "outputs": [
    {
     "name": "stdout",
     "output_type": "stream",
     "text": [
      "gmf_user_embed.0.weight True\n",
      "gmf_item_embed.0.weight True\n",
      "gmf_affine.weight True\n",
      "gmf_affine.bias True\n",
      "mlp_user_embed.0.weight True\n",
      "mlp_item_embed.0.weight True\n",
      "mlp_fc.0.weight True\n",
      "mlp_fc.0.bias True\n",
      "mlp_fc.3.weight True\n",
      "mlp_fc.3.bias True\n",
      "mlp_fc.6.weight True\n",
      "mlp_fc.6.bias True\n",
      "mlp_fc.9.weight True\n",
      "mlp_fc.9.bias True\n",
      "mixing_layers.0.weight True\n",
      "mixing_layers.0.bias True\n",
      "mixing_layers.3.weight True\n",
      "mixing_layers.3.bias True\n",
      "mixing_layers.6.weight True\n",
      "mixing_layers.6.bias True\n"
     ]
    }
   ],
   "source": [
    "gmf_model = torch.load(MODEL_PATH + \"GMF8.pt\", map_location=device)\n",
    "mlp_model = torch.load(MODEL_PATH + \"MLP64.pt\", map_location=device)\n",
    "nmf_model = NeuMF(gmf_model.num_factors, mlp_model.num_factors, num_users, num_items)\n",
    "#nmf_model = torch.load(MODEL_PATH + \"NeuMF64-freezed.pt\", map_location=device)\n",
    "load_pre_trained_weights(nmf_model, gmf_model, mlp_model, requires_grad=True)\n",
    "for name, param in nmf_model.named_parameters():\n",
    "    print(name, param.requires_grad)"
   ]
  },
  {
   "cell_type": "code",
   "execution_count": 61,
   "metadata": {},
   "outputs": [],
   "source": [
    "#train_model(nmf_model, train_loader, test_loader, name_suffix=\"-free42\")"
   ]
  },
  {
   "attachments": {},
   "cell_type": "markdown",
   "metadata": {},
   "source": [
    "# Performance comparison"
   ]
  },
  {
   "cell_type": "code",
   "execution_count": 64,
   "metadata": {},
   "outputs": [],
   "source": [
    "nmf_freezed = torch.load(MODEL_PATH + \"NeuMF64-freezed.pt\", map_location = device)\n",
    "gmf_best = torch.load(MODEL_PATH + \"GMF8.pt\", map_location = device)\n",
    "mlp_best = torch.load(MODEL_PATH + \"MLP64.pt\", map_location = device)\n",
    "nmf_free = torch.load(MODEL_PATH + \"NeuMF64-free.pt\", map_location = device)\n",
    "nmf_init = torch.load(MODEL_PATH + \"Assignment 1 - best.pt\", map_location = device)\n",
    "\n",
    "nmf_freezed.to(device) \n",
    "gmf_best.to(device) \n",
    "mlp_best.to(device)\n",
    "nmf_free.to(device) \n",
    "nmf_init.to(device)\n",
    "\n",
    "HR, NDCG = {}, {}\n",
    "HR['NeuMF - freezed'], NDCG['NeuMF - freezed'] = metrics(nmf_freezed, test_loader, 10, device)\n",
    "HR['NeuMF - free'], NDCG['NeuMF - free'] = metrics(nmf_free, test_loader, 10, device)\n",
    "HR['NeuMF - scratch'], NDCG['NeuMF - scratch'] = metrics(nmf_init, test_loader, 10, device)\n",
    "HR['GMF'], NDCG['GMF'] = metrics(gmf_best, test_loader, 10, device)\n",
    "HR['MLP'], NDCG['MLP'] = metrics(mlp_best, test_loader, 10, device)"
   ]
  },
  {
   "cell_type": "code",
   "execution_count": 65,
   "metadata": {},
   "outputs": [
    {
     "data": {
      "image/png": "[encoded data removed]",
      "text/plain": [
       "<Figure size 1500x500 with 2 Axes>"
      ]
     },
     "metadata": {},
     "output_type": "display_data"
    }
   ],
   "source": [
    "fig, ax = plt.subplots(1, 2, layout = \"constrained\", figsize = (15, 5))\n",
    "min_hr, min_ndcg = 1, 1\n",
    "max_hr, max_ndcg = 0, 0\n",
    "\n",
    "for model, value in HR.items():\n",
    "    if value < min_hr:\n",
    "        min_hr = value\n",
    "    if value > max_hr:\n",
    "        max_hr = value\n",
    "    rect = ax[0].bar(model, value, width= 0.6)\n",
    "    ax[0].bar_label(rect, padding = 1)\n",
    "\n",
    "ax[0].set_ylabel(\"HR\")\n",
    "ax[0].set_ylim(min_hr - 0.01, max_hr + 0.01)\n",
    "ax[0].set_title(\"Best Hit Rate across models\")\n",
    "\n",
    "for model, value in NDCG.items():\n",
    "    if value < min_ndcg:\n",
    "        min_ndcg = value\n",
    "    if value > max_ndcg:\n",
    "        max_ndcg = value\n",
    "    rect = ax[1].bar(model, value, width= 0.6)\n",
    "    ax[1].bar_label(rect, padding = 1)\n",
    "\n",
    "ax[1].set_ylabel(\"NDCG\")\n",
    "ax[1].set_ylim(min_ndcg - 0.01, max_ndcg + 0.01)\n",
    "ax[1].set_title(\"Best NDCG across models\")\n",
    "plt.show()"
   ]
  }
 ],
 "metadata": {
  "kernelspec": {
   "display_name": "venv",
   "language": "python",
   "name": "python3"
  },
  "language_info": {
   "codemirror_mode": {
    "name": "ipython",
    "version": 3
   },
   "file_extension": ".py",
   "mimetype": "text/x-python",
   "name": "python",
   "nbconvert_exporter": "python",
   "pygments_lexer": "ipython3",
   "version": "3.10.6"
  },
  "orig_nbformat": 4
 },
 "nbformat": 4,
 "nbformat_minor": 2
}
