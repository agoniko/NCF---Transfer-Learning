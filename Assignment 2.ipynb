{
 "cells": [
  {
   "cell_type": "markdown",
   "metadata": {},
   "source": [
    "## LAB CHALLENGE: Neural Matrix Factorization \n",
    "In the previous lecture we have built a recommender system using the Neural Matrix Factorization framework. This framework allowed us to combine the GMF layers with the MLP layers in this way:\n",
    "$$\\phi^{GMF} = \\mathbf{p_u}^G\\odot \\mathbf{q_i}^G$$\n",
    "$$\\phi^{MLP} = a_L(\\mathbf{W}_L^T(a_{L-1}(...a_2 (\\mathbf{W}_2^T \\begin{bmatrix}\n",
    "\\mathbf{p_u} \\\\ \\mathbf{q_i}\n",
    "\\end{bmatrix} + \\mathbf{b}_2)...)) + \\mathbf{b}_L)$$\n",
    "\n",
    "$$ y_{ui} = \\sigma(\\mathbf{h}^T \\begin{bmatrix}\n",
    "\\ \\phi^{GMF} \\\\ \\phi^{MLP}\n",
    "\\end{bmatrix})$$\n",
    "\n",
    "<center>  <img src=\"https://drive.google.com/uc?export=view&id=1gNLUpiQdbDPMdvfZYVs3lcou3cd4Favb\" width=\"550\" height=\"400\"> </center> \n",
    "\n",
    "Let's now try to apply transfer learning to such an architecture. \n",
    "\n",
    "- TASK 1: Train the GMF and MLP models separately, inspect and save the parameters.\n",
    "- TASK 2: Use the pre-trained parameters for initializing the NMF architecture. In particular, use the pre-trained embeddings for users and items and the initialized layers of GMF and MLP.\n",
    "- TASK 3: Finally, train the NMF model both by freezing the layers preceding the NeuMF layer and by keeping all the parameters trainable. Compare the performance with the network trained from scratch.\n"
   ]
  },
  {
   "cell_type": "code",
   "execution_count": 1,
   "metadata": {},
   "outputs": [
    {
     "name": "stderr",
     "output_type": "stream",
     "text": [
      "/home/agoniko/Desktop/Uni/DEEP_LEARNING/Transfer Learning/.venv/lib/python3.10/site-packages/tqdm/auto.py:21: TqdmWarning: IProgress not found. Please update jupyter and ipywidgets. See https://ipywidgets.readthedocs.io/en/stable/user_install.html\n",
      "  from .autonotebook import tqdm as notebook_tqdm\n"
     ]
    }
   ],
   "source": [
    "import os\n",
    "\n",
    "import matplotlib.pyplot as plt\n",
    "import numpy as np\n",
    "import pandas as pd\n",
    "import torch\n",
    "import torch.nn as nn\n",
    "import torch.optim as optim\n",
    "from torch.utils.data import DataLoader\n",
    "import time\n",
    "\n",
    "from metrics import metrics\n",
    "from NCF_Data import NCF_Data"
   ]
  },
  {
   "attachments": {},
   "cell_type": "markdown",
   "metadata": {},
   "source": [
    "## PATH definition"
   ]
  },
  {
   "cell_type": "code",
   "execution_count": 2,
   "metadata": {},
   "outputs": [],
   "source": [
    "PATH = \"./ml-100k/u.data\" \n",
    "MODEL_PATH = \"./models/\" "
   ]
  },
  {
   "attachments": {},
   "cell_type": "markdown",
   "metadata": {},
   "source": [
    "## Parameters Definition"
   ]
  },
  {
   "cell_type": "code",
   "execution_count": 3,
   "metadata": {},
   "outputs": [],
   "source": [
    "args = {\n",
    "    \"seed\": 42,\n",
    "    \"lr\": 0.01,\n",
    "    \"dropout\": 0.0,\n",
    "    \"batch_size\": 256,\n",
    "    \"epochs\": 30,\n",
    "    \"top_k\": 10,\n",
    "    \"num_factors\": 8,\n",
    "    \"layers\": (64, 32, 16, 8),\n",
    "    \"out\": True,\n",
    "    \"num_ng\": 4,\n",
    "    \"num_ng_test\": 100\n",
    "}"
   ]
  },
  {
   "cell_type": "code",
   "execution_count": 4,
   "metadata": {},
   "outputs": [],
   "source": [
    "best_config = {\n",
    "    \"lr\": 0.01,\n",
    "    \"batch_size\": 128,\n",
    "    \"num_factors_gmf\": 16,\n",
    "    \"num_factors_mlp\": 64,\n",
    "    \"epochs\": 30,\n",
    "    \"out\": True,\n",
    "    \"dropout\": [0, 0, 0, 0],\n",
    "}"
   ]
  },
  {
   "cell_type": "code",
   "execution_count": 5,
   "metadata": {},
   "outputs": [
    {
     "data": {
      "text/plain": [
       "device(type='cpu')"
      ]
     },
     "execution_count": 5,
     "metadata": {},
     "output_type": "execute_result"
    }
   ],
   "source": [
    "np.random.seed(args[\"seed\"])\n",
    "torch.manual_seed(args[\"seed\"])\n",
    "\n",
    "use_cuda = torch.cuda.is_available()\n",
    "device = torch.device(\"cuda:0\" if use_cuda else \"cpu\")\n",
    "device"
   ]
  },
  {
   "attachments": {},
   "cell_type": "markdown",
   "metadata": {},
   "source": [
    "## Load Train and Test loaders"
   ]
  },
  {
   "cell_type": "code",
   "execution_count": 6,
   "metadata": {},
   "outputs": [],
   "source": [
    "# load data\n",
    "ml_100k = pd.read_csv(\n",
    "\tPATH, \n",
    "\tsep=\"\\t\", \n",
    "\tnames = ['user_id', 'item_id', 'rating', 'timestamp'], \n",
    "\tengine='python')\n",
    "\n",
    "# set the num_users, items\n",
    "num_users = ml_100k['user_id'].nunique()+1\n",
    "num_items = ml_100k['item_id'].nunique()+1\n",
    "\n",
    "# construct the train and test datasets\n",
    "data = NCF_Data(ml_100k, args)\n",
    "train_loader = data.get_train_instance()\n",
    "test_loader = data.get_test_instance()"
   ]
  },
  {
   "attachments": {},
   "cell_type": "markdown",
   "metadata": {},
   "source": [
    "# Models"
   ]
  },
  {
   "cell_type": "code",
   "execution_count": 7,
   "metadata": {},
   "outputs": [],
   "source": [
    "def train_model(model: nn.Module, train_loader: DataLoader, test_loader: DataLoader, optimizer = None, name_suffix = \"\"):\n",
    "    model = model.to(device)\n",
    "\n",
    "    # Loss and optimizer\n",
    "    loss_function = nn.BCELoss()\n",
    "    if optimizer == None:\n",
    "        optimizer = optim.Adam(model.parameters(), lr=args[\"lr\"])\n",
    "\n",
    "    best_hr = 0\n",
    "    \n",
    "    # Train cycle\n",
    "    for epoch in range(args[\"epochs\"]):\n",
    "        start_time = time.time()\n",
    "        \n",
    "        # Train step\n",
    "        model.train()\n",
    "\n",
    "        for user, item, label in train_loader:\n",
    "            user = user.to(device)\n",
    "            item = item.to(device)\n",
    "            label = label.to(device)\n",
    "\n",
    "            # Zero grad\n",
    "            optimizer.zero_grad()\n",
    "            \n",
    "            # Prediction\n",
    "            prediction = model(user, item)\n",
    "            loss = loss_function(prediction, label)\n",
    "            \n",
    "            # Backpropagation\n",
    "            loss.backward()\n",
    "            optimizer.step()\n",
    "\n",
    "        # Eval metrics\n",
    "        model.eval()\n",
    "        HR, NDCG = metrics(model, test_loader, args[\"top_k\"], device)\n",
    "\n",
    "        # Print metrics and time elapsed\n",
    "        elapsed_time = time.time() - start_time\n",
    "        print(\n",
    "            \"Epoch {:03d}\".format(epoch)\n",
    "            + \" time to train: \"\n",
    "            + time.strftime(\"%H: %M: %S\", time.gmtime(elapsed_time))\n",
    "        )\n",
    "        print(\"HR: {:.3f}\\tNDCG: {:.3f}\".format(np.mean(HR), np.mean(NDCG)))\n",
    "\n",
    "        # If best model, save it\n",
    "        if HR > best_hr:\n",
    "            best_hr, best_ndcg, best_epoch = HR, NDCG, epoch\n",
    "            if args[\"out\"]:\n",
    "                if not os.path.exists(MODEL_PATH):\n",
    "                    os.mkdir(MODEL_PATH)\n",
    "                torch.save(\n",
    "                    model, \"{}{}{}{}.pt\".format(MODEL_PATH, model.__class__.__name__, model.num_factors, name_suffix)\n",
    "                )\n"
   ]
  },
  {
   "attachments": {},
   "cell_type": "markdown",
   "metadata": {},
   "source": [
    "## GMF model"
   ]
  },
  {
   "cell_type": "code",
   "execution_count": 8,
   "metadata": {},
   "outputs": [],
   "source": [
    "class GMF(nn.Module):\n",
    "    def __init__(self, num_users, num_items):\n",
    "        super(GMF, self).__init__()\n",
    "        self.num_users = num_users\n",
    "        self.num_items = num_items\n",
    "        self.num_factors = args[\"num_factors\"]\n",
    "\n",
    "        self.embedding_user = nn.Embedding(\n",
    "            num_embeddings=self.num_users, embedding_dim=self.num_factors\n",
    "        )\n",
    "        self.embedding_item = nn.Embedding(\n",
    "            num_embeddings=self.num_items, embedding_dim=self.num_factors\n",
    "        )\n",
    "\n",
    "        self.affine_output = nn.Linear(in_features=self.num_factors, out_features=1)\n",
    "        self.logistic = nn.Sigmoid()\n",
    "\n",
    "    def forward(self, user_indices, item_indices):\n",
    "        user_embedding = self.embedding_user(user_indices)\n",
    "        item_embedding = self.embedding_item(item_indices)\n",
    "        element_product = torch.mul(user_embedding, item_embedding)\n",
    "        logits = self.affine_output(element_product)\n",
    "        rating = self.logistic(logits)\n",
    "        return rating.squeeze()\n"
   ]
  },
  {
   "cell_type": "code",
   "execution_count": 9,
   "metadata": {},
   "outputs": [],
   "source": [
    "#gmf_model = GMF(num_users, num_items)\n",
    "#train_model(gmf_model, train_loader, test_loader)\n",
    "gmf_model = torch.load(MODEL_PATH + \"GMF8.pt\", map_location=device)"
   ]
  },
  {
   "attachments": {},
   "cell_type": "markdown",
   "metadata": {},
   "source": [
    "## MLP model"
   ]
  },
  {
   "cell_type": "code",
   "execution_count": 26,
   "metadata": {},
   "outputs": [],
   "source": [
    "class MLP(nn.Module):\n",
    "    def __init__(self, args, num_users, num_items):\n",
    "        super(MLP, self).__init__()\n",
    "        self.num_users = num_users\n",
    "        self.num_items = num_items\n",
    "        self.num_factors = args[\"factor_num\"]\n",
    "        self.layers = args.layers\n",
    "\n",
    "        self.embedding_user = nn.Embedding(num_embeddings=self.num_users, embedding_dim=self.num_factors)\n",
    "        self.embedding_item = nn.Embedding(num_embeddings=self.num_items, embedding_dim=self.num_factors)\n",
    "\n",
    "        self.fc_layers = nn.ModuleList()\n",
    "        for idx, (in_size, out_size) in enumerate(zip(self.layers[:-1], self.layers[1:])):\n",
    "            self.fc_layers.append(nn.Linear(in_size, out_size))\n",
    "\n",
    "        self.affine_output = nn.Linear(in_features=self.layers[-1], out_features=1)\n",
    "        self.logistic = nn.Sigmoid()\n",
    "\n",
    "    def forward(self, user_indices, item_indices):\n",
    "        user_embedding = self.embedding_user(user_indices)\n",
    "        item_embedding = self.embedding_item(item_indices)\n",
    "        vector = torch.cat([user_embedding, item_embedding], dim=-1)  # the concat latent vector\n",
    "        for idx, _ in enumerate(range(len(self.fc_layers))):\n",
    "            vector = self.fc_layers[idx](vector)\n",
    "            vector = nn.ReLU()(vector)\n",
    "            # vector = nn.BatchNorm1d()(vector)\n",
    "            # vector = nn.Dropout(p=0.5)(vector)\n",
    "        logits = self.affine_output(vector)\n",
    "        rating = self.logistic(logits)\n",
    "        return rating.squeeze()\n",
    "\n",
    "    def init_weight(self):\n",
    "        pass"
   ]
  },
  {
   "cell_type": "code",
   "execution_count": 28,
   "metadata": {},
   "outputs": [
    {
     "ename": "AttributeError",
     "evalue": "'dict' object has no attribute 'factor_num'",
     "output_type": "error",
     "traceback": [
      "\u001b[0;31m---------------------------------------------------------------------------\u001b[0m",
      "\u001b[0;31mAttributeError\u001b[0m                            Traceback (most recent call last)",
      "Cell \u001b[0;32mIn[28], line 5\u001b[0m\n\u001b[1;32m      3\u001b[0m args[\u001b[39m\"\u001b[39m\u001b[39mnum_factors\u001b[39m\u001b[39m\"\u001b[39m] \u001b[39m=\u001b[39m \u001b[39m64\u001b[39m\n\u001b[1;32m      4\u001b[0m args[\u001b[39m'\u001b[39m\u001b[39mlayers\u001b[39m\u001b[39m'\u001b[39m] \u001b[39m=\u001b[39m [\u001b[39m128\u001b[39m, \u001b[39m64\u001b[39m, \u001b[39m32\u001b[39m, \u001b[39m16\u001b[39m, \u001b[39m8\u001b[39m]\n\u001b[0;32m----> 5\u001b[0m mlp_model \u001b[39m=\u001b[39m MLP(args, num_users, num_items)\n\u001b[1;32m      6\u001b[0m train_model(mlp_model, train_loader, test_loader)\n\u001b[1;32m      7\u001b[0m \u001b[39m#mlp_model = torch.load(MODEL_PATH + \"MLP64.pt\", map_location=device)\u001b[39;00m\n",
      "Cell \u001b[0;32mIn[26], line 6\u001b[0m, in \u001b[0;36mMLP.__init__\u001b[0;34m(self, args, num_users, num_items)\u001b[0m\n\u001b[1;32m      4\u001b[0m \u001b[39mself\u001b[39m\u001b[39m.\u001b[39mnum_users \u001b[39m=\u001b[39m num_users\n\u001b[1;32m      5\u001b[0m \u001b[39mself\u001b[39m\u001b[39m.\u001b[39mnum_items \u001b[39m=\u001b[39m num_items\n\u001b[0;32m----> 6\u001b[0m \u001b[39mself\u001b[39m\u001b[39m.\u001b[39mfactor_num \u001b[39m=\u001b[39m args\u001b[39m.\u001b[39;49mfactor_num\n\u001b[1;32m      7\u001b[0m \u001b[39mself\u001b[39m\u001b[39m.\u001b[39mlayers \u001b[39m=\u001b[39m args\u001b[39m.\u001b[39mlayers\n\u001b[1;32m      9\u001b[0m \u001b[39mself\u001b[39m\u001b[39m.\u001b[39membedding_user \u001b[39m=\u001b[39m nn\u001b[39m.\u001b[39mEmbedding(num_embeddings\u001b[39m=\u001b[39m\u001b[39mself\u001b[39m\u001b[39m.\u001b[39mnum_users, embedding_dim\u001b[39m=\u001b[39m\u001b[39mself\u001b[39m\u001b[39m.\u001b[39mfactor_num)\n",
      "\u001b[0;31mAttributeError\u001b[0m: 'dict' object has no attribute 'factor_num'"
     ]
    }
   ],
   "source": [
    "args[\"lr\"] = 0.01\n",
    "args[\"dropout\"] = 0\n",
    "args[\"num_factors\"] = 64\n",
    "args['layers'] = [128, 64, 32, 16, 8]\n",
    "mlp_model = MLP(args, num_users, num_items)\n",
    "train_model(mlp_model, train_loader, test_loader)\n",
    "#mlp_model = torch.load(MODEL_PATH + \"MLP64.pt\", map_location=device)"
   ]
  },
  {
   "attachments": {},
   "cell_type": "markdown",
   "metadata": {},
   "source": [
    "## NeuMF model"
   ]
  },
  {
   "cell_type": "code",
   "execution_count": null,
   "metadata": {},
   "outputs": [],
   "source": [
    "class NeuMF(nn.Module):\n",
    "    def __init__(self, num_factors_gmf, num_factors_mlp, num_users, num_items, dropout = [0, 0, 0, 0]):\n",
    "\n",
    "        super(NeuMF, self).__init__()\n",
    "        self.num_users = num_users\n",
    "        self.num_items = num_items\n",
    "        self.dropout = dropout\n",
    "        self.num_factors_gmf = num_factors_gmf\n",
    "        self.num_factors_mlp = num_factors_mlp\n",
    "        self.num_factors = max(num_factors_mlp, num_factors_gmf) #just for saving model name purpose\n",
    "\n",
    "        # GMF component\n",
    "        self.gmf_user_embed = nn.Sequential(\n",
    "            nn.Embedding(num_embeddings=self.num_users, embedding_dim=self.num_factors_gmf),\n",
    "            nn.Dropout(p=self.dropout[1]),\n",
    "        )\n",
    "        self.gmf_item_embed = nn.Sequential(\n",
    "            nn.Embedding(num_embeddings=self.num_items, embedding_dim=self.num_factors_gmf),\n",
    "            nn.Dropout(p=self.dropout[1]),\n",
    "        )\n",
    "        self.gmf_affine = nn.Linear(\n",
    "            in_features=self.num_factors_gmf, out_features=self.num_factors_gmf, bias=True\n",
    "        )\n",
    "\n",
    "        # MLP component\n",
    "        self.mlp_user_embed = nn.Sequential(\n",
    "            nn.Embedding(num_embeddings=self.num_users, embedding_dim=self.num_factors_mlp),\n",
    "            nn.Dropout(p=self.dropout[2]),\n",
    "        )\n",
    "        self.mlp_item_embed = nn.Sequential(\n",
    "            nn.Embedding(num_embeddings=self.num_items, embedding_dim=self.num_factors_mlp),\n",
    "            nn.Dropout(p=self.dropout[2]),\n",
    "        )\n",
    "\n",
    "        self.mlp_fc = nn.Sequential(\n",
    "            #We have considered as possible num_factors [8, 16, 32, 64] so this structure word\n",
    "            nn.Linear(2 * self.num_factors_mlp, self.num_factors_mlp),\n",
    "            nn.Dropout(p = dropout[3]),\n",
    "            nn.ReLU(),\n",
    "\n",
    "            nn.Linear(self.num_factors_mlp, int(self.num_factors_mlp / 2)),\n",
    "            nn.Dropout(p = dropout[3] / 2),\n",
    "            nn.ReLU(),\n",
    "\n",
    "            nn.Linear(int(self.num_factors_mlp / 2), int(self.num_factors_mlp / 4)),  \n",
    "            nn.Dropout(p = dropout[3] / 4),\n",
    "            nn.ReLU(),\n",
    "\n",
    "            nn.Linear(int(self.num_factors_mlp / 4), int(self.num_factors_mlp / 8)),  \n",
    "            nn.Dropout(p = dropout[3] / 4),\n",
    "            nn.ReLU()\n",
    "        )\n",
    "\n",
    "        # Combine models\n",
    "        input_dim = self.num_factors_gmf + int(self.num_factors_mlp / 8)\n",
    "        self.mixing_layers = nn.Sequential(\n",
    "            nn.Linear(input_dim, int(input_dim / 2)),\n",
    "            nn.Dropout(p=dropout[0]),\n",
    "            nn.ReLU(),\n",
    "\n",
    "            nn.Linear(int(input_dim / 2), int(input_dim / 4)),\n",
    "            nn.Dropout(p=dropout[0] / 2),\n",
    "            nn.ReLU(),\n",
    "\n",
    "            nn.Linear(int(input_dim / 4), 1),\n",
    "            nn.Sigmoid(),\n",
    "        )\n",
    "\n",
    "    def forward(self, user_indices, item_indices):\n",
    "        # GMF forward\n",
    "        user_embedding_gmf = self.gmf_user_embed(user_indices)\n",
    "        item_embedding_gmf = self.gmf_item_embed(item_indices)\n",
    "\n",
    "        element_product = torch.mul(user_embedding_gmf, item_embedding_gmf)\n",
    "        ratings_gmf = self.gmf_affine(element_product)\n",
    "\n",
    "        # MLP forward\n",
    "        user_embedding_mlp = self.mlp_user_embed(user_indices)\n",
    "        item_embedding_mlp = self.mlp_item_embed(item_indices)\n",
    "\n",
    "        vector = torch.cat((user_embedding_mlp, item_embedding_mlp), dim=-1)\n",
    "        ratings_mlp = self.mlp_fc(vector)\n",
    "\n",
    "        ratings = torch.cat((ratings_gmf, ratings_mlp), dim=1)\n",
    "        return self.mixing_layers(ratings).squeeze()\n"
   ]
  },
  {
   "cell_type": "code",
   "execution_count": 12,
   "metadata": {},
   "outputs": [],
   "source": [
    "nmf_model = torch.load(MODEL_PATH + \"Assignment 1 - best.pt\", map_location=device)\n",
    "#nmf_model = NeuMF(gmf_model.num_factors, mlp_model.num_factors, num_users, num_items)\n",
    "#train_model(nmf_model, train_loader, test_loader)"
   ]
  },
  {
   "attachments": {},
   "cell_type": "markdown",
   "metadata": {},
   "source": [
    "# Defining functions that load sub_models weights"
   ]
  },
  {
   "cell_type": "code",
   "execution_count": 13,
   "metadata": {},
   "outputs": [],
   "source": [
    "def load_gmf_weights(nmf_model, gmf_model, requires_grad=False):\n",
    "    nmf_layers_names = [name for name, param in nmf_model.named_parameters()]\n",
    "    gmf_layers_names = [name for name, param in gmf_model.named_parameters()]\n",
    "    #create a dict that has as key the value of the layer in the NMF model and as value the layer in the GMF model\n",
    "    layers_name_match_dict = {k: v for k, v in zip(nmf_layers_names[:2], gmf_layers_names)}\n",
    "    for nmf_layer_name, gmf_layer_name in layers_name_match_dict.items():\n",
    "        nmf_model.state_dict()[nmf_layer_name].copy_(gmf_model.state_dict()[gmf_layer_name])\n",
    "    #deactivate grad for the layers that comes from the GMF model\n",
    "    for name, param in nmf_model.named_parameters():\n",
    "        if name in layers_name_match_dict.keys():\n",
    "            param.requires_grad = requires_grad\n",
    "\n",
    "\n",
    "def load_mlp_weights(nmf_model, mlp_model, requires_grad=False):\n",
    "    nmf_layers_names = [name for name, param in nmf_model.named_parameters()]\n",
    "    mlp_layers_names = [name for name, param in mlp_model.named_parameters()]\n",
    "    #create a dict that has as key the value of the layer in the NMF model and as value the layer in the MLP model\n",
    "    layers_name_match_dict = {k: v for k, v in zip(nmf_layers_names[4:], mlp_layers_names[:-2])}\n",
    "    for nmf_layer_name, mlp_layer_name in layers_name_match_dict.items():\n",
    "        nmf_model.state_dict()[nmf_layer_name].copy_(mlp_model.state_dict()[mlp_layer_name])\n",
    "    #deactivate grad for the layers that comes from the MLP model\n",
    "    for name, param in nmf_model.named_parameters():\n",
    "        if name in layers_name_match_dict.keys():\n",
    "            param.requires_grad = requires_grad\n",
    "\n",
    "\n",
    "def load_pre_trained_weights(nmf_model, gmf_model, mlp_model, requires_grad = False):\n",
    "    load_gmf_weights(nmf_model, gmf_model, requires_grad)\n",
    "    load_mlp_weights(nmf_model, mlp_model, requires_grad)"
   ]
  },
  {
   "attachments": {},
   "cell_type": "markdown",
   "metadata": {},
   "source": [
    "# Transfer Learning tasks\n",
    "\n",
    "We noticed that models trained from scratch present the best results with a learning rate equals to 0.01 while, in a model where pre-trained layers weights are loaded, a learning rate of 0.001  "
   ]
  },
  {
   "attachments": {},
   "cell_type": "markdown",
   "metadata": {},
   "source": [
    "## Performance with sum_models layers freezed"
   ]
  },
  {
   "cell_type": "code",
   "execution_count": 14,
   "metadata": {},
   "outputs": [],
   "source": [
    "nmf_model = NeuMF(gmf_model.num_factors, mlp_model.num_factors, num_users, num_items)"
   ]
  },
  {
   "cell_type": "code",
   "execution_count": 15,
   "metadata": {},
   "outputs": [
    {
     "data": {
      "text/plain": [
       "Parameter containing:\n",
       "tensor([[ 1.9269,  1.4873,  0.9007,  ..., -1.2345, -0.0431, -1.6047],\n",
       "        [-0.7521,  1.6487, -0.3925,  ..., -0.5594, -0.7688,  0.7624],\n",
       "        [ 1.6423, -0.1596, -0.4974,  ...,  1.0783,  0.8008,  1.6806],\n",
       "        ...,\n",
       "        [ 1.3053,  0.8632, -0.5380,  ..., -1.6509,  0.6197, -1.1270],\n",
       "        [ 0.4050,  0.2192, -1.1548,  ...,  1.2185, -0.1874,  1.0788],\n",
       "        [ 0.1406, -0.9916, -1.5487,  ..., -1.8480,  0.0260,  0.7676]],\n",
       "       requires_grad=True)"
      ]
     },
     "execution_count": 15,
     "metadata": {},
     "output_type": "execute_result"
    }
   ],
   "source": [
    "list(nmf_model.named_parameters())[0][1]"
   ]
  },
  {
   "cell_type": "code",
   "execution_count": 16,
   "metadata": {},
   "outputs": [],
   "source": [
    "load_pre_trained_weights(nmf_model, gmf_model, mlp_model, requires_grad=False)"
   ]
  },
  {
   "cell_type": "code",
   "execution_count": 17,
   "metadata": {},
   "outputs": [
    {
     "data": {
      "text/plain": [
       "Parameter containing:\n",
       "tensor([[ 1.7280,  1.4811,  1.0664,  ...,  0.9762,  0.0456,  2.0202],\n",
       "        [-0.2205, -1.2966, -1.9638,  ..., -1.7870, -1.3417,  1.2043],\n",
       "        [ 2.0669, -2.2307,  0.9558,  ..., -0.8492,  2.5840, -0.3950],\n",
       "        ...,\n",
       "        [ 0.2834, -0.3905, -3.0622,  ...,  0.9188, -0.7230, -0.9686],\n",
       "        [ 0.2379, -0.7479, -1.2310,  ...,  0.7663, -2.1157,  2.5937],\n",
       "        [ 0.2497, -0.4265,  0.6371,  ...,  0.7272, -0.4906, -0.9946]])"
      ]
     },
     "execution_count": 17,
     "metadata": {},
     "output_type": "execute_result"
    }
   ],
   "source": [
    "list(nmf_model.named_parameters())[0][1]\n"
   ]
  },
  {
   "cell_type": "code",
   "execution_count": 18,
   "metadata": {},
   "outputs": [
    {
     "name": "stdout",
     "output_type": "stream",
     "text": [
      "gmf_user_embed.0.weight False\n",
      "gmf_item_embed.0.weight False\n",
      "gmf_affine.weight True\n",
      "gmf_affine.bias True\n",
      "mlp_user_embed.0.weight False\n",
      "mlp_item_embed.0.weight False\n",
      "mlp_fc.0.weight False\n",
      "mlp_fc.0.bias False\n",
      "mlp_fc.3.weight False\n",
      "mlp_fc.3.bias False\n",
      "mlp_fc.6.weight False\n",
      "mlp_fc.6.bias False\n",
      "mlp_fc.9.weight False\n",
      "mlp_fc.9.bias False\n",
      "mixing_layers.0.weight True\n",
      "mixing_layers.0.bias True\n",
      "mixing_layers.3.weight True\n",
      "mixing_layers.3.bias True\n",
      "mixing_layers.6.weight True\n",
      "mixing_layers.6.bias True\n"
     ]
    }
   ],
   "source": [
    "for name, param in nmf_model.named_parameters():\n",
    "    print(name, param.requires_grad)"
   ]
  },
  {
   "cell_type": "code",
   "execution_count": 20,
   "metadata": {},
   "outputs": [
    {
     "data": {
      "text/plain": [
       "0.001"
      ]
     },
     "execution_count": 20,
     "metadata": {},
     "output_type": "execute_result"
    }
   ],
   "source": [
    "args['lr']"
   ]
  },
  {
   "cell_type": "code",
   "execution_count": 19,
   "metadata": {},
   "outputs": [
    {
     "name": "stdout",
     "output_type": "stream",
     "text": [
      "Epoch 000 time to train: 00: 00: 07\n",
      "HR: 0.659\tNDCG: 0.363\n",
      "Epoch 001 time to train: 00: 00: 07\n",
      "HR: 0.656\tNDCG: 0.364\n",
      "Epoch 002 time to train: 00: 00: 08\n",
      "HR: 0.650\tNDCG: 0.361\n",
      "Epoch 003 time to train: 00: 00: 10\n",
      "HR: 0.654\tNDCG: 0.362\n",
      "Epoch 004 time to train: 00: 00: 09\n",
      "HR: 0.657\tNDCG: 0.363\n",
      "Epoch 005 time to train: 00: 00: 11\n",
      "HR: 0.654\tNDCG: 0.362\n",
      "Epoch 006 time to train: 00: 00: 09\n",
      "HR: 0.655\tNDCG: 0.364\n",
      "Epoch 007 time to train: 00: 00: 10\n",
      "HR: 0.651\tNDCG: 0.361\n",
      "Epoch 008 time to train: 00: 00: 10\n",
      "HR: 0.652\tNDCG: 0.363\n",
      "Epoch 009 time to train: 00: 00: 09\n",
      "HR: 0.659\tNDCG: 0.365\n",
      "Epoch 010 time to train: 00: 00: 08\n",
      "HR: 0.654\tNDCG: 0.363\n",
      "Epoch 011 time to train: 00: 00: 09\n",
      "HR: 0.655\tNDCG: 0.364\n"
     ]
    },
    {
     "ename": "KeyboardInterrupt",
     "evalue": "",
     "output_type": "error",
     "traceback": [
      "\u001b[0;31m---------------------------------------------------------------------------\u001b[0m",
      "\u001b[0;31mKeyboardInterrupt\u001b[0m                         Traceback (most recent call last)",
      "Cell \u001b[0;32mIn[19], line 1\u001b[0m\n\u001b[0;32m----> 1\u001b[0m train_model(nmf_model, train_loader, test_loader, name_suffix\u001b[39m=\u001b[39;49m\u001b[39m\"\u001b[39;49m\u001b[39m-freezed42\u001b[39;49m\u001b[39m\"\u001b[39;49m)\n",
      "Cell \u001b[0;32mIn[7], line 18\u001b[0m, in \u001b[0;36mtrain_model\u001b[0;34m(model, train_loader, test_loader, optimizer, name_suffix)\u001b[0m\n\u001b[1;32m     15\u001b[0m \u001b[39m# Train step\u001b[39;00m\n\u001b[1;32m     16\u001b[0m model\u001b[39m.\u001b[39mtrain()\n\u001b[0;32m---> 18\u001b[0m \u001b[39mfor\u001b[39;00m user, item, label \u001b[39min\u001b[39;00m train_loader:\n\u001b[1;32m     19\u001b[0m     user \u001b[39m=\u001b[39m user\u001b[39m.\u001b[39mto(device)\n\u001b[1;32m     20\u001b[0m     item \u001b[39m=\u001b[39m item\u001b[39m.\u001b[39mto(device)\n",
      "File \u001b[0;32m~/Desktop/Uni/DEEP_LEARNING/Transfer Learning/.venv/lib/python3.10/site-packages/torch/utils/data/dataloader.py:628\u001b[0m, in \u001b[0;36m_BaseDataLoaderIter.__next__\u001b[0;34m(self)\u001b[0m\n\u001b[1;32m    625\u001b[0m \u001b[39mif\u001b[39;00m \u001b[39mself\u001b[39m\u001b[39m.\u001b[39m_sampler_iter \u001b[39mis\u001b[39;00m \u001b[39mNone\u001b[39;00m:\n\u001b[1;32m    626\u001b[0m     \u001b[39m# TODO(https://github.com/pytorch/pytorch/issues/76750)\u001b[39;00m\n\u001b[1;32m    627\u001b[0m     \u001b[39mself\u001b[39m\u001b[39m.\u001b[39m_reset()  \u001b[39m# type: ignore[call-arg]\u001b[39;00m\n\u001b[0;32m--> 628\u001b[0m data \u001b[39m=\u001b[39m \u001b[39mself\u001b[39;49m\u001b[39m.\u001b[39;49m_next_data()\n\u001b[1;32m    629\u001b[0m \u001b[39mself\u001b[39m\u001b[39m.\u001b[39m_num_yielded \u001b[39m+\u001b[39m\u001b[39m=\u001b[39m \u001b[39m1\u001b[39m\n\u001b[1;32m    630\u001b[0m \u001b[39mif\u001b[39;00m \u001b[39mself\u001b[39m\u001b[39m.\u001b[39m_dataset_kind \u001b[39m==\u001b[39m _DatasetKind\u001b[39m.\u001b[39mIterable \u001b[39mand\u001b[39;00m \\\n\u001b[1;32m    631\u001b[0m         \u001b[39mself\u001b[39m\u001b[39m.\u001b[39m_IterableDataset_len_called \u001b[39mis\u001b[39;00m \u001b[39mnot\u001b[39;00m \u001b[39mNone\u001b[39;00m \u001b[39mand\u001b[39;00m \\\n\u001b[1;32m    632\u001b[0m         \u001b[39mself\u001b[39m\u001b[39m.\u001b[39m_num_yielded \u001b[39m>\u001b[39m \u001b[39mself\u001b[39m\u001b[39m.\u001b[39m_IterableDataset_len_called:\n",
      "File \u001b[0;32m~/Desktop/Uni/DEEP_LEARNING/Transfer Learning/.venv/lib/python3.10/site-packages/torch/utils/data/dataloader.py:1316\u001b[0m, in \u001b[0;36m_MultiProcessingDataLoaderIter._next_data\u001b[0;34m(self)\u001b[0m\n\u001b[1;32m   1313\u001b[0m     \u001b[39mreturn\u001b[39;00m \u001b[39mself\u001b[39m\u001b[39m.\u001b[39m_process_data(data)\n\u001b[1;32m   1315\u001b[0m \u001b[39massert\u001b[39;00m \u001b[39mnot\u001b[39;00m \u001b[39mself\u001b[39m\u001b[39m.\u001b[39m_shutdown \u001b[39mand\u001b[39;00m \u001b[39mself\u001b[39m\u001b[39m.\u001b[39m_tasks_outstanding \u001b[39m>\u001b[39m \u001b[39m0\u001b[39m\n\u001b[0;32m-> 1316\u001b[0m idx, data \u001b[39m=\u001b[39m \u001b[39mself\u001b[39;49m\u001b[39m.\u001b[39;49m_get_data()\n\u001b[1;32m   1317\u001b[0m \u001b[39mself\u001b[39m\u001b[39m.\u001b[39m_tasks_outstanding \u001b[39m-\u001b[39m\u001b[39m=\u001b[39m \u001b[39m1\u001b[39m\n\u001b[1;32m   1318\u001b[0m \u001b[39mif\u001b[39;00m \u001b[39mself\u001b[39m\u001b[39m.\u001b[39m_dataset_kind \u001b[39m==\u001b[39m _DatasetKind\u001b[39m.\u001b[39mIterable:\n\u001b[1;32m   1319\u001b[0m     \u001b[39m# Check for _IterableDatasetStopIteration\u001b[39;00m\n",
      "File \u001b[0;32m~/Desktop/Uni/DEEP_LEARNING/Transfer Learning/.venv/lib/python3.10/site-packages/torch/utils/data/dataloader.py:1282\u001b[0m, in \u001b[0;36m_MultiProcessingDataLoaderIter._get_data\u001b[0;34m(self)\u001b[0m\n\u001b[1;32m   1278\u001b[0m     \u001b[39m# In this case, `self._data_queue` is a `queue.Queue`,. But we don't\u001b[39;00m\n\u001b[1;32m   1279\u001b[0m     \u001b[39m# need to call `.task_done()` because we don't use `.join()`.\u001b[39;00m\n\u001b[1;32m   1280\u001b[0m \u001b[39melse\u001b[39;00m:\n\u001b[1;32m   1281\u001b[0m     \u001b[39mwhile\u001b[39;00m \u001b[39mTrue\u001b[39;00m:\n\u001b[0;32m-> 1282\u001b[0m         success, data \u001b[39m=\u001b[39m \u001b[39mself\u001b[39;49m\u001b[39m.\u001b[39;49m_try_get_data()\n\u001b[1;32m   1283\u001b[0m         \u001b[39mif\u001b[39;00m success:\n\u001b[1;32m   1284\u001b[0m             \u001b[39mreturn\u001b[39;00m data\n",
      "File \u001b[0;32m~/Desktop/Uni/DEEP_LEARNING/Transfer Learning/.venv/lib/python3.10/site-packages/torch/utils/data/dataloader.py:1120\u001b[0m, in \u001b[0;36m_MultiProcessingDataLoaderIter._try_get_data\u001b[0;34m(self, timeout)\u001b[0m\n\u001b[1;32m   1107\u001b[0m \u001b[39mdef\u001b[39;00m \u001b[39m_try_get_data\u001b[39m(\u001b[39mself\u001b[39m, timeout\u001b[39m=\u001b[39m_utils\u001b[39m.\u001b[39mMP_STATUS_CHECK_INTERVAL):\n\u001b[1;32m   1108\u001b[0m     \u001b[39m# Tries to fetch data from `self._data_queue` once for a given timeout.\u001b[39;00m\n\u001b[1;32m   1109\u001b[0m     \u001b[39m# This can also be used as inner loop of fetching without timeout, with\u001b[39;00m\n\u001b[0;32m   (...)\u001b[0m\n\u001b[1;32m   1117\u001b[0m     \u001b[39m# Returns a 2-tuple:\u001b[39;00m\n\u001b[1;32m   1118\u001b[0m     \u001b[39m#   (bool: whether successfully get data, any: data if successful else None)\u001b[39;00m\n\u001b[1;32m   1119\u001b[0m     \u001b[39mtry\u001b[39;00m:\n\u001b[0;32m-> 1120\u001b[0m         data \u001b[39m=\u001b[39m \u001b[39mself\u001b[39;49m\u001b[39m.\u001b[39;49m_data_queue\u001b[39m.\u001b[39;49mget(timeout\u001b[39m=\u001b[39;49mtimeout)\n\u001b[1;32m   1121\u001b[0m         \u001b[39mreturn\u001b[39;00m (\u001b[39mTrue\u001b[39;00m, data)\n\u001b[1;32m   1122\u001b[0m     \u001b[39mexcept\u001b[39;00m \u001b[39mException\u001b[39;00m \u001b[39mas\u001b[39;00m e:\n\u001b[1;32m   1123\u001b[0m         \u001b[39m# At timeout and error, we manually check whether any worker has\u001b[39;00m\n\u001b[1;32m   1124\u001b[0m         \u001b[39m# failed. Note that this is the only mechanism for Windows to detect\u001b[39;00m\n\u001b[1;32m   1125\u001b[0m         \u001b[39m# worker failures.\u001b[39;00m\n",
      "File \u001b[0;32m/usr/lib/python3.10/multiprocessing/queues.py:122\u001b[0m, in \u001b[0;36mQueue.get\u001b[0;34m(self, block, timeout)\u001b[0m\n\u001b[1;32m    120\u001b[0m         \u001b[39mself\u001b[39m\u001b[39m.\u001b[39m_rlock\u001b[39m.\u001b[39mrelease()\n\u001b[1;32m    121\u001b[0m \u001b[39m# unserialize the data after having released the lock\u001b[39;00m\n\u001b[0;32m--> 122\u001b[0m \u001b[39mreturn\u001b[39;00m _ForkingPickler\u001b[39m.\u001b[39;49mloads(res)\n",
      "File \u001b[0;32m~/Desktop/Uni/DEEP_LEARNING/Transfer Learning/.venv/lib/python3.10/site-packages/torch/multiprocessing/reductions.py:305\u001b[0m, in \u001b[0;36mrebuild_storage_fd\u001b[0;34m(cls, df, size)\u001b[0m\n\u001b[1;32m    304\u001b[0m \u001b[39mdef\u001b[39;00m \u001b[39mrebuild_storage_fd\u001b[39m(\u001b[39mcls\u001b[39m, df, size):\n\u001b[0;32m--> 305\u001b[0m     fd \u001b[39m=\u001b[39m df\u001b[39m.\u001b[39;49mdetach()\n\u001b[1;32m    306\u001b[0m     \u001b[39mtry\u001b[39;00m:\n\u001b[1;32m    307\u001b[0m         storage \u001b[39m=\u001b[39m storage_from_cache(\u001b[39mcls\u001b[39m, fd_id(fd))\n",
      "File \u001b[0;32m/usr/lib/python3.10/multiprocessing/resource_sharer.py:57\u001b[0m, in \u001b[0;36mDupFd.detach\u001b[0;34m(self)\u001b[0m\n\u001b[1;32m     55\u001b[0m \u001b[39mdef\u001b[39;00m \u001b[39mdetach\u001b[39m(\u001b[39mself\u001b[39m):\n\u001b[1;32m     56\u001b[0m \u001b[39m    \u001b[39m\u001b[39m'''Get the fd.  This should only be called once.'''\u001b[39;00m\n\u001b[0;32m---> 57\u001b[0m     \u001b[39mwith\u001b[39;00m _resource_sharer\u001b[39m.\u001b[39;49mget_connection(\u001b[39mself\u001b[39;49m\u001b[39m.\u001b[39;49m_id) \u001b[39mas\u001b[39;00m conn:\n\u001b[1;32m     58\u001b[0m         \u001b[39mreturn\u001b[39;00m reduction\u001b[39m.\u001b[39mrecv_handle(conn)\n",
      "File \u001b[0;32m/usr/lib/python3.10/multiprocessing/resource_sharer.py:86\u001b[0m, in \u001b[0;36m_ResourceSharer.get_connection\u001b[0;34m(ident)\u001b[0m\n\u001b[1;32m     84\u001b[0m \u001b[39mfrom\u001b[39;00m \u001b[39m.\u001b[39;00m\u001b[39mconnection\u001b[39;00m \u001b[39mimport\u001b[39;00m Client\n\u001b[1;32m     85\u001b[0m address, key \u001b[39m=\u001b[39m ident\n\u001b[0;32m---> 86\u001b[0m c \u001b[39m=\u001b[39m Client(address, authkey\u001b[39m=\u001b[39;49mprocess\u001b[39m.\u001b[39;49mcurrent_process()\u001b[39m.\u001b[39;49mauthkey)\n\u001b[1;32m     87\u001b[0m c\u001b[39m.\u001b[39msend((key, os\u001b[39m.\u001b[39mgetpid()))\n\u001b[1;32m     88\u001b[0m \u001b[39mreturn\u001b[39;00m c\n",
      "File \u001b[0;32m/usr/lib/python3.10/multiprocessing/connection.py:508\u001b[0m, in \u001b[0;36mClient\u001b[0;34m(address, family, authkey)\u001b[0m\n\u001b[1;32m    505\u001b[0m     \u001b[39mraise\u001b[39;00m \u001b[39mTypeError\u001b[39;00m(\u001b[39m'\u001b[39m\u001b[39mauthkey should be a byte string\u001b[39m\u001b[39m'\u001b[39m)\n\u001b[1;32m    507\u001b[0m \u001b[39mif\u001b[39;00m authkey \u001b[39mis\u001b[39;00m \u001b[39mnot\u001b[39;00m \u001b[39mNone\u001b[39;00m:\n\u001b[0;32m--> 508\u001b[0m     answer_challenge(c, authkey)\n\u001b[1;32m    509\u001b[0m     deliver_challenge(c, authkey)\n\u001b[1;32m    511\u001b[0m \u001b[39mreturn\u001b[39;00m c\n",
      "File \u001b[0;32m/usr/lib/python3.10/multiprocessing/connection.py:752\u001b[0m, in \u001b[0;36manswer_challenge\u001b[0;34m(connection, authkey)\u001b[0m\n\u001b[1;32m    749\u001b[0m \u001b[39mif\u001b[39;00m \u001b[39mnot\u001b[39;00m \u001b[39misinstance\u001b[39m(authkey, \u001b[39mbytes\u001b[39m):\n\u001b[1;32m    750\u001b[0m     \u001b[39mraise\u001b[39;00m \u001b[39mValueError\u001b[39;00m(\n\u001b[1;32m    751\u001b[0m         \u001b[39m\"\u001b[39m\u001b[39mAuthkey must be bytes, not \u001b[39m\u001b[39m{0!s}\u001b[39;00m\u001b[39m\"\u001b[39m\u001b[39m.\u001b[39mformat(\u001b[39mtype\u001b[39m(authkey)))\n\u001b[0;32m--> 752\u001b[0m message \u001b[39m=\u001b[39m connection\u001b[39m.\u001b[39;49mrecv_bytes(\u001b[39m256\u001b[39;49m)         \u001b[39m# reject large message\u001b[39;00m\n\u001b[1;32m    753\u001b[0m \u001b[39massert\u001b[39;00m message[:\u001b[39mlen\u001b[39m(CHALLENGE)] \u001b[39m==\u001b[39m CHALLENGE, \u001b[39m'\u001b[39m\u001b[39mmessage = \u001b[39m\u001b[39m%r\u001b[39;00m\u001b[39m'\u001b[39m \u001b[39m%\u001b[39m message\n\u001b[1;32m    754\u001b[0m message \u001b[39m=\u001b[39m message[\u001b[39mlen\u001b[39m(CHALLENGE):]\n",
      "File \u001b[0;32m/usr/lib/python3.10/multiprocessing/connection.py:219\u001b[0m, in \u001b[0;36m_ConnectionBase.recv_bytes\u001b[0;34m(self, maxlength)\u001b[0m\n\u001b[1;32m    217\u001b[0m \u001b[39mif\u001b[39;00m buf \u001b[39mis\u001b[39;00m \u001b[39mNone\u001b[39;00m:\n\u001b[1;32m    218\u001b[0m     \u001b[39mself\u001b[39m\u001b[39m.\u001b[39m_bad_message_length()\n\u001b[0;32m--> 219\u001b[0m \u001b[39mreturn\u001b[39;00m buf\u001b[39m.\u001b[39;49mgetvalue()\n",
      "\u001b[0;31mKeyboardInterrupt\u001b[0m: "
     ]
    }
   ],
   "source": [
    "train_model(nmf_model, train_loader, test_loader, name_suffix=\"-freezed42\")"
   ]
  },
  {
   "attachments": {},
   "cell_type": "markdown",
   "metadata": {},
   "source": [
    "## Performance letting initialized layers free"
   ]
  },
  {
   "cell_type": "code",
   "execution_count": 21,
   "metadata": {},
   "outputs": [
    {
     "name": "stdout",
     "output_type": "stream",
     "text": [
      "gmf_user_embed.0.weight True\n",
      "gmf_item_embed.0.weight True\n",
      "gmf_affine.weight True\n",
      "gmf_affine.bias True\n",
      "mlp_user_embed.0.weight True\n",
      "mlp_item_embed.0.weight True\n",
      "mlp_fc.0.weight True\n",
      "mlp_fc.0.bias True\n",
      "mlp_fc.3.weight True\n",
      "mlp_fc.3.bias True\n",
      "mlp_fc.6.weight True\n",
      "mlp_fc.6.bias True\n",
      "mlp_fc.9.weight True\n",
      "mlp_fc.9.bias True\n",
      "mixing_layers.0.weight True\n",
      "mixing_layers.0.bias True\n",
      "mixing_layers.3.weight True\n",
      "mixing_layers.3.bias True\n",
      "mixing_layers.6.weight True\n",
      "mixing_layers.6.bias True\n"
     ]
    }
   ],
   "source": [
    "nmf_model = NeuMF(gmf_model.num_factors, mlp_model.num_factors, num_users, num_items)\n",
    "#nmf_model = torch.load(MODEL_PATH + \"NeuMF64-freezed.pt\", map_location=device)\n",
    "load_pre_trained_weights(nmf_model, gmf_model, mlp_model, requires_grad=True)\n",
    "for name, param in nmf_model.named_parameters():\n",
    "    print(name, param.requires_grad)"
   ]
  },
  {
   "cell_type": "code",
   "execution_count": 22,
   "metadata": {},
   "outputs": [
    {
     "name": "stdout",
     "output_type": "stream",
     "text": [
      "Epoch 000 time to train: 00: 00: 09\n",
      "HR: 0.655\tNDCG: 0.369\n",
      "Epoch 001 time to train: 00: 00: 10\n",
      "HR: 0.654\tNDCG: 0.372\n",
      "Epoch 002 time to train: 00: 00: 12\n",
      "HR: 0.660\tNDCG: 0.376\n",
      "Epoch 003 time to train: 00: 00: 12\n",
      "HR: 0.657\tNDCG: 0.372\n",
      "Epoch 004 time to train: 00: 00: 12\n",
      "HR: 0.659\tNDCG: 0.375\n",
      "Epoch 005 time to train: 00: 00: 11\n",
      "HR: 0.659\tNDCG: 0.376\n",
      "Epoch 006 time to train: 00: 00: 11\n",
      "HR: 0.663\tNDCG: 0.378\n",
      "Epoch 007 time to train: 00: 00: 11\n",
      "HR: 0.657\tNDCG: 0.379\n",
      "Epoch 008 time to train: 00: 00: 12\n",
      "HR: 0.664\tNDCG: 0.384\n",
      "Epoch 009 time to train: 00: 00: 12\n",
      "HR: 0.664\tNDCG: 0.385\n",
      "Epoch 010 time to train: 00: 00: 12\n",
      "HR: 0.651\tNDCG: 0.381\n",
      "Epoch 011 time to train: 00: 00: 12\n",
      "HR: 0.650\tNDCG: 0.381\n",
      "Epoch 012 time to train: 00: 00: 14\n",
      "HR: 0.657\tNDCG: 0.382\n",
      "Epoch 013 time to train: 00: 00: 13\n",
      "HR: 0.645\tNDCG: 0.376\n",
      "Epoch 014 time to train: 00: 00: 13\n",
      "HR: 0.638\tNDCG: 0.371\n",
      "Epoch 015 time to train: 00: 00: 13\n",
      "HR: 0.636\tNDCG: 0.371\n",
      "Epoch 016 time to train: 00: 00: 12\n",
      "HR: 0.635\tNDCG: 0.371\n",
      "Epoch 017 time to train: 00: 00: 12\n",
      "HR: 0.636\tNDCG: 0.364\n",
      "Epoch 018 time to train: 00: 00: 12\n",
      "HR: 0.626\tNDCG: 0.361\n",
      "Epoch 019 time to train: 00: 00: 12\n",
      "HR: 0.627\tNDCG: 0.363\n",
      "Epoch 020 time to train: 00: 00: 12\n",
      "HR: 0.631\tNDCG: 0.365\n",
      "Epoch 021 time to train: 00: 00: 12\n",
      "HR: 0.631\tNDCG: 0.363\n",
      "Epoch 022 time to train: 00: 00: 12\n",
      "HR: 0.619\tNDCG: 0.358\n",
      "Epoch 023 time to train: 00: 00: 12\n",
      "HR: 0.631\tNDCG: 0.359\n",
      "Epoch 024 time to train: 00: 00: 11\n",
      "HR: 0.625\tNDCG: 0.357\n",
      "Epoch 025 time to train: 00: 00: 12\n",
      "HR: 0.630\tNDCG: 0.363\n",
      "Epoch 026 time to train: 00: 00: 12\n",
      "HR: 0.636\tNDCG: 0.363\n",
      "Epoch 027 time to train: 00: 00: 12\n",
      "HR: 0.616\tNDCG: 0.355\n",
      "Epoch 028 time to train: 00: 00: 11\n",
      "HR: 0.625\tNDCG: 0.355\n",
      "Epoch 029 time to train: 00: 00: 12\n",
      "HR: 0.632\tNDCG: 0.360\n"
     ]
    }
   ],
   "source": [
    "train_model(nmf_model, train_loader, test_loader, name_suffix=\"-free42\")"
   ]
  },
  {
   "attachments": {},
   "cell_type": "markdown",
   "metadata": {},
   "source": [
    "# Performance comparison"
   ]
  },
  {
   "cell_type": "code",
   "execution_count": 23,
   "metadata": {},
   "outputs": [
    {
     "ename": "AttributeError",
     "evalue": "'MLP' object has no attribute 'mlp_fc'",
     "output_type": "error",
     "traceback": [
      "\u001b[0;31m---------------------------------------------------------------------------\u001b[0m",
      "\u001b[0;31mAttributeError\u001b[0m                            Traceback (most recent call last)",
      "Cell \u001b[0;32mIn[23], line 18\u001b[0m\n\u001b[1;32m     16\u001b[0m HR[\u001b[39m'\u001b[39m\u001b[39mNeuMF - init\u001b[39m\u001b[39m'\u001b[39m], NDCG[\u001b[39m'\u001b[39m\u001b[39mNeuMF - init\u001b[39m\u001b[39m'\u001b[39m] \u001b[39m=\u001b[39m metrics(nmf_init, test_loader, \u001b[39m10\u001b[39m, device)\n\u001b[1;32m     17\u001b[0m HR[\u001b[39m'\u001b[39m\u001b[39mGMF\u001b[39m\u001b[39m'\u001b[39m], NDCG[\u001b[39m'\u001b[39m\u001b[39mGMF\u001b[39m\u001b[39m'\u001b[39m] \u001b[39m=\u001b[39m metrics(gmf_best, test_loader, \u001b[39m10\u001b[39m, device)\n\u001b[0;32m---> 18\u001b[0m HR[\u001b[39m'\u001b[39m\u001b[39mMLP\u001b[39m\u001b[39m'\u001b[39m], NDCG[\u001b[39m'\u001b[39m\u001b[39mMLP\u001b[39m\u001b[39m'\u001b[39m] \u001b[39m=\u001b[39m metrics(mlp_best, test_loader, \u001b[39m10\u001b[39;49m, device)\n",
      "File \u001b[0;32m~/Desktop/Uni/DEEP_LEARNING/Transfer Learning/metrics.py:21\u001b[0m, in \u001b[0;36mmetrics\u001b[0;34m(model, test_loader, top_k, device)\u001b[0m\n\u001b[1;32m     18\u001b[0m user \u001b[39m=\u001b[39m user\u001b[39m.\u001b[39mto(device)\n\u001b[1;32m     19\u001b[0m item \u001b[39m=\u001b[39m item\u001b[39m.\u001b[39mto(device)\n\u001b[0;32m---> 21\u001b[0m predictions \u001b[39m=\u001b[39m model(user, item)\n\u001b[1;32m     22\u001b[0m _, indices \u001b[39m=\u001b[39m torch\u001b[39m.\u001b[39mtopk(predictions, top_k)\n\u001b[1;32m     23\u001b[0m recommends \u001b[39m=\u001b[39m torch\u001b[39m.\u001b[39mtake(item, indices)\u001b[39m.\u001b[39mcpu()\u001b[39m.\u001b[39mnumpy()\u001b[39m.\u001b[39mtolist()\n",
      "File \u001b[0;32m~/Desktop/Uni/DEEP_LEARNING/Transfer Learning/.venv/lib/python3.10/site-packages/torch/nn/modules/module.py:1194\u001b[0m, in \u001b[0;36mModule._call_impl\u001b[0;34m(self, *input, **kwargs)\u001b[0m\n\u001b[1;32m   1190\u001b[0m \u001b[39m# If we don't have any hooks, we want to skip the rest of the logic in\u001b[39;00m\n\u001b[1;32m   1191\u001b[0m \u001b[39m# this function, and just call forward.\u001b[39;00m\n\u001b[1;32m   1192\u001b[0m \u001b[39mif\u001b[39;00m \u001b[39mnot\u001b[39;00m (\u001b[39mself\u001b[39m\u001b[39m.\u001b[39m_backward_hooks \u001b[39mor\u001b[39;00m \u001b[39mself\u001b[39m\u001b[39m.\u001b[39m_forward_hooks \u001b[39mor\u001b[39;00m \u001b[39mself\u001b[39m\u001b[39m.\u001b[39m_forward_pre_hooks \u001b[39mor\u001b[39;00m _global_backward_hooks\n\u001b[1;32m   1193\u001b[0m         \u001b[39mor\u001b[39;00m _global_forward_hooks \u001b[39mor\u001b[39;00m _global_forward_pre_hooks):\n\u001b[0;32m-> 1194\u001b[0m     \u001b[39mreturn\u001b[39;00m forward_call(\u001b[39m*\u001b[39;49m\u001b[39minput\u001b[39;49m, \u001b[39m*\u001b[39;49m\u001b[39m*\u001b[39;49mkwargs)\n\u001b[1;32m   1195\u001b[0m \u001b[39m# Do not call functions when jit is used\u001b[39;00m\n\u001b[1;32m   1196\u001b[0m full_backward_hooks, non_full_backward_hooks \u001b[39m=\u001b[39m [], []\n",
      "Cell \u001b[0;32mIn[10], line 30\u001b[0m, in \u001b[0;36mMLP.forward\u001b[0;34m(self, user_indices, item_indices)\u001b[0m\n\u001b[1;32m     28\u001b[0m item_embedding \u001b[39m=\u001b[39m \u001b[39mself\u001b[39m\u001b[39m.\u001b[39membedding_item(item_indices)\n\u001b[1;32m     29\u001b[0m vector \u001b[39m=\u001b[39m torch\u001b[39m.\u001b[39mcat([user_embedding, item_embedding], dim\u001b[39m=\u001b[39m\u001b[39m-\u001b[39m\u001b[39m1\u001b[39m)\n\u001b[0;32m---> 30\u001b[0m rating \u001b[39m=\u001b[39m \u001b[39mself\u001b[39;49m\u001b[39m.\u001b[39;49mmlp_fc(vector)\n\u001b[1;32m     31\u001b[0m \u001b[39mreturn\u001b[39;00m rating\u001b[39m.\u001b[39msqueeze()\n",
      "File \u001b[0;32m~/Desktop/Uni/DEEP_LEARNING/Transfer Learning/.venv/lib/python3.10/site-packages/torch/nn/modules/module.py:1269\u001b[0m, in \u001b[0;36mModule.__getattr__\u001b[0;34m(self, name)\u001b[0m\n\u001b[1;32m   1267\u001b[0m     \u001b[39mif\u001b[39;00m name \u001b[39min\u001b[39;00m modules:\n\u001b[1;32m   1268\u001b[0m         \u001b[39mreturn\u001b[39;00m modules[name]\n\u001b[0;32m-> 1269\u001b[0m \u001b[39mraise\u001b[39;00m \u001b[39mAttributeError\u001b[39;00m(\u001b[39m\"\u001b[39m\u001b[39m'\u001b[39m\u001b[39m{}\u001b[39;00m\u001b[39m'\u001b[39m\u001b[39m object has no attribute \u001b[39m\u001b[39m'\u001b[39m\u001b[39m{}\u001b[39;00m\u001b[39m'\u001b[39m\u001b[39m\"\u001b[39m\u001b[39m.\u001b[39mformat(\n\u001b[1;32m   1270\u001b[0m     \u001b[39mtype\u001b[39m(\u001b[39mself\u001b[39m)\u001b[39m.\u001b[39m\u001b[39m__name__\u001b[39m, name))\n",
      "\u001b[0;31mAttributeError\u001b[0m: 'MLP' object has no attribute 'mlp_fc'"
     ]
    }
   ],
   "source": [
    "nmf_freezed = torch.load(MODEL_PATH + \"NeuMF64-freezed42.pt\", map_location = device)\n",
    "gmf_best = torch.load(MODEL_PATH + \"GMF8.pt\", map_location = device)\n",
    "mlp_best = torch.load(MODEL_PATH + \"MLP64.pt\", map_location = device)\n",
    "nmf_free = torch.load(MODEL_PATH + \"NeuMF64-free42.pt\", map_location = device)\n",
    "nmf_init = torch.load(MODEL_PATH + \"scratch.pt\", map_location = device)\n",
    "\n",
    "nmf_freezed.to(device) \n",
    "gmf_best.to(device) \n",
    "mlp_best.to(device)\n",
    "nmf_free.to(device) \n",
    "nmf_init.to(device)\n",
    "\n",
    "HR, NDCG = {}, {}\n",
    "HR['NeuMF - freezed'], NDCG['NeuMF - freezed'] = metrics(nmf_freezed, test_loader, 10, device)\n",
    "HR['NeuMF - free'], NDCG['NeuMF - free'] = metrics(nmf_free, test_loader, 10, device)\n",
    "HR['NeuMF - init'], NDCG['NeuMF - init'] = metrics(nmf_init, test_loader, 10, device)\n",
    "HR['GMF'], NDCG['GMF'] = metrics(gmf_best, test_loader, 10, device)\n",
    "HR['MLP'], NDCG['MLP'] = metrics(mlp_best, test_loader, 10, device)"
   ]
  },
  {
   "cell_type": "code",
   "execution_count": null,
   "metadata": {},
   "outputs": [
    {
     "data": {
      "text/plain": [
       "Text(0.5, 1.0, 'Best NDCG across models')"
      ]
     },
     "execution_count": 140,
     "metadata": {},
     "output_type": "execute_result"
    },
    {
     "data": {
      "image/png": "[encoded data removed]",
      "text/plain": [
       "<Figure size 1500x500 with 2 Axes>"
      ]
     },
     "metadata": {},
     "output_type": "display_data"
    }
   ],
   "source": [
    "fig, ax = plt.subplots(1, 2, layout = \"constrained\", figsize = (15, 5))\n",
    "for model, value in HR.items():\n",
    "    rect = ax[0].bar(model, value, width= 0.6)\n",
    "    ax[0].bar_label(rect, padding = 1)\n",
    "\n",
    "ax[0].set_ylabel(\"HR\")\n",
    "ax[0].set_ylim(0.5, 0.68)\n",
    "ax[0].set_title(\"Best Hit Rate across models\")\n",
    "\n",
    "for model, value in NDCG.items():\n",
    "    rect = ax[1].bar(model, value, width= 0.6)\n",
    "    ax[1].bar_label(rect, padding = 1)\n",
    "\n",
    "ax[1].set_ylabel(\"NDCG\")\n",
    "ax[1].set_ylim(0.3, 0.40)\n",
    "ax[1].set_title(\"Best NDCG across models\")"
   ]
  }
 ],
 "metadata": {
  "kernelspec": {
   "display_name": "venv",
   "language": "python",
   "name": "python3"
  },
  "language_info": {
   "codemirror_mode": {
    "name": "ipython",
    "version": 3
   },
   "file_extension": ".py",
   "mimetype": "text/x-python",
   "name": "python",
   "nbconvert_exporter": "python",
   "pygments_lexer": "ipython3",
   "version": "3.10.6"
  },
  "orig_nbformat": 4
 },
 "nbformat": 4,
 "nbformat_minor": 2
}
